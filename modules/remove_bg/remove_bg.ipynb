{
 "cells": [
  {
   "cell_type": "markdown",
   "metadata": {},
   "source": [
    "### importing modules"
   ]
  },
  {
   "cell_type": "code",
   "execution_count": null,
   "metadata": {},
   "outputs": [],
   "source": [
    "import cv2\n",
    "import matplotlib.pyplot as plt\n",
    "import sys\n",
    "sys.path.append(\"../../\")\n",
    "from utils.shadow_rm import shadow_remove\n",
    "import numpy as np"
   ]
  },
  {
   "cell_type": "markdown",
   "metadata": {},
   "source": [
    "### custom fucntion for plotting"
   ]
  },
  {
   "cell_type": "code",
   "execution_count": null,
   "metadata": {},
   "outputs": [],
   "source": [
    "def plot(images, size=\"medium\", cmap=None):\n",
    "    for image in images:\n",
    "        size_dict = {\"small\": (10, 10), \"medium\": (15, 15), \"large\": (20, 20)}\n",
    "        plt.figure(figsize=size_dict[size])\n",
    "        if cmap: plt.imshow(image, cmap=cmap)\n",
    "        else: plt.imshow(image)"
   ]
  },
  {
   "cell_type": "markdown",
   "metadata": {},
   "source": [
    "### reading the input image"
   ]
  },
  {
   "cell_type": "code",
   "execution_count": null,
   "metadata": {},
   "outputs": [],
   "source": [
    "cropped_n_rotated_pth = \"/home/vikas/Documents/Text and Shape Recognition/POC3/modules/assets/input_images/durham_cropped&rotated.jpg\"\n",
    "img_bgr = cv2.imread(cropped_n_rotated_pth)\n",
    "plt.figure(figsize=(20, 20))\n",
    "plot(img_bgr[..., ::-1])"
   ]
  },
  {
   "cell_type": "code",
   "execution_count": null,
   "metadata": {},
   "outputs": [],
   "source": [
    "# shadow_remove worked but don't know why\n",
    "# let's figure it out"
   ]
  },
  {
   "cell_type": "code",
   "execution_count": null,
   "metadata": {},
   "outputs": [],
   "source": [
    "# def shadow_remove(img):\n",
    "#     rgb_planes = cv2.split(img)\n",
    "#     result_norm_planes = []\n",
    "#     for plane in rgb_planes:\n",
    "#         dilated_img = cv2.dilate(plane, np.ones((7,7), np.uint8))\n",
    "#         bg_img = cv2.medianBlur(dilated_img, 21)\n",
    "#         diff_img = 255 - cv2.absdiff(plane, bg_img)\n",
    "#         norm_img = cv2.normalize(diff_img,None, alpha=0, beta=255, norm_type=cv2.NORM_MINMAX, dtype=cv2.CV_8UC1)\n",
    "#         result_norm_planes.append(norm_img)\n",
    "#     shadowremov = cv2.merge(result_norm_planes)\n",
    "#     return shadowremov"
   ]
  },
  {
   "cell_type": "code",
   "execution_count": null,
   "metadata": {},
   "outputs": [],
   "source": [
    "bgr_planes = cv2.split(img_bgr)"
   ]
  },
  {
   "cell_type": "code",
   "execution_count": null,
   "metadata": {},
   "outputs": [],
   "source": [
    "plane = bgr_planes[2]\n",
    "dilated_img = cv2.dilate(plane, np.ones((7,7), np.uint8))\n",
    "bg_img = cv2.medianBlur(dilated_img, 21)\n",
    "plot([plane, dilated_img, bg_img], size=\"small\", cmap=\"gray\")"
   ]
  },
  {
   "cell_type": "code",
   "execution_count": null,
   "metadata": {},
   "outputs": [],
   "source": [
    "bg_img.shape, plane.shape"
   ]
  },
  {
   "cell_type": "code",
   "execution_count": null,
   "metadata": {},
   "outputs": [],
   "source": [
    "plot([plane, 255-cv2.absdiff(plane, bg_img)], cmap=\"gray\")"
   ]
  },
  {
   "cell_type": "code",
   "execution_count": null,
   "metadata": {},
   "outputs": [],
   "source": [
    "bgr_planes = cv2.split(img_bgr)\n",
    "result_norm_planes = []\n",
    "for plane in bgr_planes:\n",
    "    dilated_img = cv2.dilate(plane, np.ones((7,7), np.uint8))\n",
    "    bg_img = cv2.medianBlur(dilated_img, 21)\n",
    "    diff_img = 255 - cv2.absdiff(plane, bg_img)\n",
    "    norm_img = cv2.normalize(diff_img,None, alpha=0, beta=255, norm_type=cv2.NORM_MINMAX, dtype=cv2.CV_8UC1)\n",
    "    result_norm_planes.append(norm_img)\n",
    "shadowremov = cv2.merge(result_norm_planes)"
   ]
  },
  {
   "cell_type": "code",
   "execution_count": null,
   "metadata": {},
   "outputs": [],
   "source": [
    "wo_shad = shadow_remove(img_bgr)\n",
    "plot(wo_shad[..., ::-1])"
   ]
  },
  {
   "cell_type": "code",
   "execution_count": null,
   "metadata": {},
   "outputs": [],
   "source": []
  }
 ],
 "metadata": {
  "kernelspec": {
   "display_name": "ocr-matt",
   "language": "python",
   "name": "ocr-matt"
  },
  "language_info": {
   "codemirror_mode": {
    "name": "ipython",
    "version": 3
   },
   "file_extension": ".py",
   "mimetype": "text/x-python",
   "name": "python",
   "nbconvert_exporter": "python",
   "pygments_lexer": "ipython3",
   "version": "3.8.10"
  },
  "orig_nbformat": 4
 },
 "nbformat": 4,
 "nbformat_minor": 2
}
