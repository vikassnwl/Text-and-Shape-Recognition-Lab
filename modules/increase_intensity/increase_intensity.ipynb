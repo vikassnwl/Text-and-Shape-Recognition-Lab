{
 "cells": [
  {
   "cell_type": "code",
   "execution_count": 1,
   "metadata": {},
   "outputs": [],
   "source": [
    "import cv2\n",
    "import numpy as np\n",
    "\n",
    "\n",
    "\n",
    "def increase_intensity(wo_shad):\n",
    "    imghsv = cv2.cvtColor(wo_shad, cv2.COLOR_BGR2HSV).astype(\"float32\")\n",
    "    (h, s, v) = cv2.split(imghsv)\n",
    "    satadj =  3\n",
    "    s = s*satadj\n",
    "    s = np.clip(s,0,255)\n",
    "    imghsv = cv2.merge([h,s,v])\n",
    "    imgbgr = cv2.cvtColor(imghsv.astype(\"uint8\"), cv2.COLOR_HSV2BGR)\n",
    "\n",
    "    return imgbgr"
   ]
  },
  {
   "cell_type": "code",
   "execution_count": null,
   "metadata": {},
   "outputs": [],
   "source": []
  }
 ],
 "metadata": {
  "kernelspec": {
   "display_name": "ocr-matt",
   "language": "python",
   "name": "ocr-matt"
  },
  "language_info": {
   "codemirror_mode": {
    "name": "ipython",
    "version": 3
   },
   "file_extension": ".py",
   "mimetype": "text/x-python",
   "name": "python",
   "nbconvert_exporter": "python",
   "pygments_lexer": "ipython3",
   "version": "3.8.10"
  },
  "orig_nbformat": 4
 },
 "nbformat": 4,
 "nbformat_minor": 2
}
